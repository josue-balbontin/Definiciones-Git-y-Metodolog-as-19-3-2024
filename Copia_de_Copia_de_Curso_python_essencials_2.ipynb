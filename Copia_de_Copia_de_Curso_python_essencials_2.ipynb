{
  "nbformat": 4,
  "nbformat_minor": 0,
  "metadata": {
    "colab": {
      "provenance": [],
      "collapsed_sections": [
        "bzfAwGUgIY5E",
        "na4H8so-VBGh",
        "B5bw_0PSVrFa",
        "8u_tMUbhVx06",
        "3B44HmvTV-yv",
        "M5f4z5qLWGFX",
        "xCutg7kvWNqA",
        "EWfKWA1HWaUy",
        "McrqbsnKWdqb"
      ],
      "include_colab_link": true
    },
    "kernelspec": {
      "name": "python3",
      "display_name": "Python 3"
    },
    "language_info": {
      "name": "python"
    }
  },
  "cells": [
    {
      "cell_type": "markdown",
      "metadata": {
        "id": "view-in-github",
        "colab_type": "text"
      },
      "source": [
        "<a href=\"https://colab.research.google.com/github/josue-balbontin/Definiciones-Git-y-Metodologias-19-3-2024/blob/main/Copia_de_Copia_de_Curso_python_essencials_2.ipynb\" target=\"_parent\"><img src=\"https://colab.research.google.com/assets/colab-badge.svg\" alt=\"Open In Colab\"/></a>"
      ]
    },
    {
      "cell_type": "markdown",
      "source": [
        "# Introducción a Python\n",
        "Python es un lenguaje de programación de alto nivel que se destaca por su sintaxis sencilla y legible, lo que lo hace accesible tanto para principiantes como para programadores experimentados. Es un lenguaje interpretado, lo que significa que puedes escribir y ejecutar código sin necesidad de compilarlo primero. Python es muy popular en diversas áreas como desarrollo web, ciencia de datos, inteligencia artificial, automatización de tareas, y más."
      ],
      "metadata": {
        "id": "6vH09FXSUzMD"
      }
    },
    {
      "cell_type": "markdown",
      "source": [
        "#Operaciones básicas en python\n"
      ],
      "metadata": {
        "id": "bzfAwGUgIY5E"
      }
    },
    {
      "cell_type": "markdown",
      "source": [
        "Sintaxis básica de declaración: variable = valor\n",
        "\n",
        "Tipos de datos primitivos: int, float, str, bool\n",
        "\n",
        "Declaración múltiple de variables: a, b, c = 1, 2, 3\n",
        "\n",
        "Asignación de una misma variable a múltiples valores: x = y = 10"
      ],
      "metadata": {
        "id": "jnb38KbHIs3w"
      }
    },
    {
      "cell_type": "code",
      "source": [
        "\n",
        "# Declaración de variables\n",
        "entero = 10       # Entero\n",
        "flotante = 3.14   # Flotante\n",
        "cadena = \"Hola\"   # Cadena\n",
        "booleano = True   # Booleano\n",
        "char = 'c'\n"
      ],
      "metadata": {
        "id": "F_9qvI1QntgL"
      },
      "execution_count": null,
      "outputs": []
    },
    {
      "cell_type": "code",
      "source": [
        "print(char)"
      ],
      "metadata": {
        "colab": {
          "base_uri": "https://localhost:8080/"
        },
        "id": "COL35pbZvmd9",
        "outputId": "e1c974e4-4a90-4c63-dbab-95378defe015"
      },
      "execution_count": null,
      "outputs": [
        {
          "output_type": "stream",
          "name": "stdout",
          "text": [
            "c\n"
          ]
        }
      ]
    },
    {
      "cell_type": "markdown",
      "source": [
        "Asignación múltiple:\n",
        "\n",
        "Puedes asignar valores a varias variables en una sola línea."
      ],
      "metadata": {
        "id": "RncGwQTxoJ8P"
      }
    },
    {
      "cell_type": "code",
      "source": [
        "a, b, c = 1, 2, 3\n"
      ],
      "metadata": {
        "id": "j33Gi7rAoCiR"
      },
      "execution_count": null,
      "outputs": []
    },
    {
      "cell_type": "code",
      "source": [
        "print(b)"
      ],
      "metadata": {
        "colab": {
          "base_uri": "https://localhost:8080/"
        },
        "id": "twfeGommxAOE",
        "outputId": "8836e91b-5e65-46ad-850b-7be247f89195"
      },
      "execution_count": null,
      "outputs": [
        {
          "output_type": "stream",
          "name": "stdout",
          "text": [
            "1\n"
          ]
        }
      ]
    },
    {
      "cell_type": "markdown",
      "source": [
        "Intercambio de variables:\n",
        "\n",
        "En muchos lenguajes, el intercambio de valores entre dos variables requiere una tercera variable temporal, pero en Python se puede hacer de manera directa.\n"
      ],
      "metadata": {
        "id": "y7JFg-3DoEwk"
      }
    },
    {
      "cell_type": "code",
      "source": [
        "a, b = b, a\n"
      ],
      "metadata": {
        "id": "tlpglJYJoKyI"
      },
      "execution_count": null,
      "outputs": []
    },
    {
      "cell_type": "markdown",
      "source": [
        "Tipos dinámicos:\n",
        "\n",
        "Una variable en Python puede cambiar de tipo durante la ejecución del programa."
      ],
      "metadata": {
        "id": "VVvp_zhAoUGf"
      }
    },
    {
      "cell_type": "code",
      "source": [
        "variable = 10       # Entero\n",
        "print(\"variable 1: \" + str(variable))\n",
        "variable = \"Hola\"   # Ahora es una cadena\n",
        "print(\"variable 2: \" + variable)\n"
      ],
      "metadata": {
        "colab": {
          "base_uri": "https://localhost:8080/"
        },
        "id": "riimRIMCoUwu",
        "outputId": "5473a3fa-9690-4b47-87e7-7eadb8cd0f71"
      },
      "execution_count": null,
      "outputs": [
        {
          "output_type": "stream",
          "name": "stdout",
          "text": [
            "variable 1: 10\n",
            "variable 2: Hola\n"
          ]
        }
      ]
    },
    {
      "cell_type": "markdown",
      "source": [
        "Suma: +\n",
        "\n",
        "Resta: -\n",
        "\n",
        "Multiplicación: *\n",
        "\n",
        "División: / (float) y // (entero)\n",
        "\n",
        "Módulo (resto de la división): %\n",
        "\n",
        "Exponente: **"
      ],
      "metadata": {
        "id": "CPMsho_gItgm"
      }
    },
    {
      "cell_type": "code",
      "source": [
        "a = 10\n",
        "b = 3\n",
        "\n",
        "# Suma\n",
        "suma = a + b  # 13\n",
        "\n",
        "# Resta\n",
        "resta = a - b  # 7\n",
        "\n",
        "# Multiplicación\n",
        "multiplicacion = a * b  # 30\n",
        "\n",
        "# División\n",
        "division = a / b  # 3.333...\n",
        "\n",
        "# División entera\n",
        "division_entera = a // b  # 3\n",
        "\n",
        "# Módulo\n",
        "modulo = a % b  # 1\n",
        "\n",
        "# Exponenciación\n",
        "exponenciacion = a ** b  # 1000\n"
      ],
      "metadata": {
        "id": "87EtrtwPn6I-"
      },
      "execution_count": null,
      "outputs": []
    },
    {
      "cell_type": "code",
      "source": [
        "x = True\n",
        "y = False\n",
        "\n",
        "# AND\n",
        "resultado_and = x and y  # False\n",
        "\n",
        "# OR\n",
        "resultado_or = x or y  # True\n",
        "\n",
        "# NOT\n",
        "resultado_not = not x  # False\n"
      ],
      "metadata": {
        "id": "QGHuwJJ6n_Ce"
      },
      "execution_count": null,
      "outputs": []
    },
    {
      "cell_type": "code",
      "source": [
        "# Declaración de variables\n",
        "cadena1 = \"Python es\"\n",
        "cadena2 = \"genial\"\n",
        "numero = 2024\n",
        "decimal = 3.14159\n",
        "\n",
        "# Concatenación de cadenas\n",
        "print(cadena1 + \" \" + cadena2)  # Salida: Python es genial\n",
        "\n",
        "# Conversión y concatenación de número y cadena\n",
        "resultado1 = \"El año es \" + str(numero)\n",
        "print(resultado1)  # Salida: El año es 2024\n",
        "\n",
        "# Conversión y concatenación de flotante y cadena\n",
        "resultado2 = \"El valor de pi es \" + str(decimal)\n",
        "print(resultado2)  # Salida: El valor de pi es 3.14159\n",
        "\n",
        "# Conversión y concatenación de lista y cadena\n",
        "mi_lista = [1, 2, 3]\n",
        "resultado3 = \"Los números son: \" + str(mi_lista)\n",
        "print(resultado3)  # Salida: Los números son: [1, 2, 3]\n",
        "\n",
        "\n"
      ],
      "metadata": {
        "id": "Jzc2tBYZJMgh",
        "colab": {
          "base_uri": "https://localhost:8080/"
        },
        "outputId": "200e305c-fc04-4d11-cbc9-7ae04cbca6f8"
      },
      "execution_count": null,
      "outputs": [
        {
          "output_type": "stream",
          "name": "stdout",
          "text": [
            "Python es genial\n",
            "El año es 2024\n",
            "El valor de pi es 3.14159\n",
            "Los números son: [1, 2, 3]\n"
          ]
        }
      ]
    },
    {
      "cell_type": "code",
      "source": [
        "cadena1\n"
      ],
      "metadata": {
        "colab": {
          "base_uri": "https://localhost:8080/",
          "height": 35
        },
        "id": "sWTzWncr0s-L",
        "outputId": "399b6995-5fc4-4fce-ed1b-dfd6d39fa5e3"
      },
      "execution_count": null,
      "outputs": [
        {
          "output_type": "execute_result",
          "data": {
            "text/plain": [
              "'Python es'"
            ],
            "application/vnd.google.colaboratory.intrinsic+json": {
              "type": "string"
            }
          },
          "metadata": {},
          "execution_count": 23
        }
      ]
    },
    {
      "cell_type": "markdown",
      "source": [
        "# Estructuras en phyton"
      ],
      "metadata": {
        "id": "VPpPwnB9U6-x"
      }
    },
    {
      "cell_type": "markdown",
      "source": [
        "## if\n",
        "\n",
        "Esta estructura se utiliza cuando quieres que un bloque de código se ejecute solo si una condición es verdadera."
      ],
      "metadata": {
        "id": "na4H8so-VBGh"
      }
    },
    {
      "cell_type": "code",
      "execution_count": null,
      "metadata": {
        "id": "N3YGs2c3UvCz",
        "colab": {
          "base_uri": "https://localhost:8080/"
        },
        "outputId": "0c88d607-e1a7-4902-b093-2fef40696815"
      },
      "outputs": [
        {
          "output_type": "stream",
          "name": "stdout",
          "text": [
            "puedes ir a la discoteca\n"
          ]
        }
      ],
      "source": [
        "edad = 2\n",
        "if edad >= 18:\n",
        "  print(\"Eres mayor de edad\")\n",
        "  print(\"puedes ir a la discoteca\")"
      ]
    },
    {
      "cell_type": "markdown",
      "source": [],
      "metadata": {
        "id": "usQXdaJVWuAd"
      }
    },
    {
      "cell_type": "markdown",
      "source": [
        "##If else\n",
        "Agrega una alternativa para cuando la condición no se cumple.\n"
      ],
      "metadata": {
        "id": "B5bw_0PSVrFa"
      }
    },
    {
      "cell_type": "code",
      "source": [
        "edad = 19\n",
        "if edad >= 18:\n",
        "  print(\"Eres mayor de edad\")\n",
        "else:\n",
        "  print(\"Eres menor de edad\")\n"
      ],
      "metadata": {
        "id": "k1L6MVkyVwSR",
        "colab": {
          "base_uri": "https://localhost:8080/"
        },
        "outputId": "03305b5d-1f6d-44f7-abe5-cb84e1def677"
      },
      "execution_count": null,
      "outputs": [
        {
          "output_type": "stream",
          "name": "stdout",
          "text": [
            "Eres mayor de edad\n"
          ]
        }
      ]
    },
    {
      "cell_type": "code",
      "source": [
        "edad = 28\n",
        "if edad >=18:\n",
        "  if edad < 24:\n",
        "    print(\"eres joven\")\n",
        "  print(\"eres adulto\")\n",
        "\n"
      ],
      "metadata": {
        "colab": {
          "base_uri": "https://localhost:8080/"
        },
        "id": "Evi2ybcj5Vls",
        "outputId": "2f6541de-15e7-45dc-8715-88b4b0df7ff7"
      },
      "execution_count": null,
      "outputs": [
        {
          "output_type": "stream",
          "name": "stdout",
          "text": [
            "eres adulto\n"
          ]
        }
      ]
    },
    {
      "cell_type": "markdown",
      "source": [
        "##while\n",
        "Los bucles permiten que un bloque de código se ejecute varias veces hasta que se cumpla una condición específica.\n",
        "Este bucle continúa ejecutándose mientras una condición sea verdadera."
      ],
      "metadata": {
        "id": "8u_tMUbhVx06"
      }
    },
    {
      "cell_type": "code",
      "source": [
        "contador = 0\n",
        "while contador < 5:\n",
        "  print(contador)\n",
        "  contador += 1\n"
      ],
      "metadata": {
        "id": "p2UFS6PHV7c7",
        "colab": {
          "base_uri": "https://localhost:8080/"
        },
        "outputId": "b4756cb1-d9a4-428a-ab48-dc23cfe9a848"
      },
      "execution_count": null,
      "outputs": [
        {
          "output_type": "stream",
          "name": "stdout",
          "text": [
            "0\n",
            "1\n",
            "2\n",
            "3\n",
            "4\n"
          ]
        }
      ]
    },
    {
      "cell_type": "markdown",
      "source": [
        "##Vector\n",
        " En Python, los vectores son equivalentes a las listas unidimensionales."
      ],
      "metadata": {
        "id": "8DRzilMqV8Bd"
      }
    },
    {
      "cell_type": "code",
      "source": [
        "#Aquí hemos creado un vector simple llamado vector que contiene cinco elementos: 10, 20, 30, 40 y 50.\n",
        "vector = [10, 20, 30, 40, 50]\n",
        "\n",
        "# podemos ingresar cualquer tipo de dato a un mismo vector\n",
        "vector2 = [\"hola\", 1.2, 'c', 40, 50]"
      ],
      "metadata": {
        "id": "AUiDLfFhWIve"
      },
      "execution_count": null,
      "outputs": []
    },
    {
      "cell_type": "code",
      "source": [
        "print(\"Vector:\", vector)\n",
        "\n",
        "# Leer desde el inicio hasta el quinto elemento (incluyendo el índice 2)\n",
        "sub_vector = vector[:3]\n",
        "\n",
        "# Leer desde el 2 hasta el 4to (incluyendo el índice 3)\n",
        "sub_vector2 = vector[2:4]\n",
        "\n",
        "# Leer desde el 2 hasta el ultimo\n",
        "sub_vector2 = vector[2:]"
      ],
      "metadata": {
        "colab": {
          "base_uri": "https://localhost:8080/"
        },
        "id": "IZ_K3GPmE7py",
        "outputId": "6741edf6-055e-4dfb-e6d5-226596ecc23e"
      },
      "execution_count": null,
      "outputs": [
        {
          "output_type": "stream",
          "name": "stdout",
          "text": [
            "Vector: [10, 20, 30, 40, 50]\n"
          ]
        }
      ]
    },
    {
      "cell_type": "code",
      "source": [
        "# Acceder al primer elemento\n",
        "print(\"Primer elemento:\", vector[0])\n",
        "\n",
        "# Acceder al tercer elemento\n",
        "print(\"Tercer elemento:\", vector[2])\n",
        "\n",
        "# Acceder al último elemento\n",
        "print(\"Último elemento:\", vector[-1])\n"
      ],
      "metadata": {
        "colab": {
          "base_uri": "https://localhost:8080/"
        },
        "id": "wwKcjxL3FEvz",
        "outputId": "e938fbe7-0a4b-400e-a260-633dd163e297"
      },
      "execution_count": null,
      "outputs": [
        {
          "output_type": "stream",
          "name": "stdout",
          "text": [
            "Primer elemento: 10\n",
            "Tercer elemento: 30\n",
            "Último elemento: 50\n"
          ]
        }
      ]
    },
    {
      "cell_type": "code",
      "source": [
        "# Agregar un nuevo elemento al final del vector\n",
        "vector.append(60)\n",
        "print(\"Vector después de agregar un elemento:\", vector)\n",
        "\n",
        "# Eliminar el tercer elemento del vector\n",
        "del vector[2]\n",
        "print(\"Vector después de eliminar el tercer elemento:\", vector)\n"
      ],
      "metadata": {
        "colab": {
          "base_uri": "https://localhost:8080/"
        },
        "id": "qYRtHGHKFKMM",
        "outputId": "1094044d-f67c-4d50-cb1b-b1d3274d5385"
      },
      "execution_count": null,
      "outputs": [
        {
          "output_type": "stream",
          "name": "stdout",
          "text": [
            "Vector después de agregar un elemento: [10, 20, 30, 40, 50, 60]\n",
            "Vector después de eliminar el tercer elemento: [10, 20, 40, 50, 60]\n"
          ]
        }
      ]
    },
    {
      "cell_type": "code",
      "source": [
        "# Obtener la longitud del vector\n",
        "longitud = len(vector)\n",
        "print(\"Longitud del vector:\", longitud)"
      ],
      "metadata": {
        "id": "riEm7IqMFjxE"
      },
      "execution_count": null,
      "outputs": []
    },
    {
      "cell_type": "code",
      "source": [
        "# Verificar si un elemento está en el vector\n",
        "existe = 25 in vector\n",
        "print(\"¿El 25 está en el vector?\", existe)"
      ],
      "metadata": {
        "id": "AxDUYyKZFlvN"
      },
      "execution_count": null,
      "outputs": []
    },
    {
      "cell_type": "code",
      "source": [
        "# Modificar el segundo elemento\n",
        "vector[1] = 25\n",
        "print(\"vector después de modificar el segundo elemento:\", vector)"
      ],
      "metadata": {
        "id": "cP7UTXbkGRA4"
      },
      "execution_count": null,
      "outputs": []
    },
    {
      "cell_type": "markdown",
      "source": [
        "##For\n",
        "Se utiliza para iterar sobre una secuencia de elementos como una lista, tupla, cadena, etc"
      ],
      "metadata": {
        "id": "3B44HmvTV-yv"
      }
    },
    {
      "cell_type": "code",
      "source": [
        "frutas = [\"manzana\", \"banana\", \"cereza\"]\n",
        "for fruta in frutas:\n",
        "    print(fruta)\n"
      ],
      "metadata": {
        "id": "KLjDUUNcWBK0"
      },
      "execution_count": null,
      "outputs": []
    },
    {
      "cell_type": "markdown",
      "source": [
        "##Matriz\n",
        "Se representan como listas de listas, permitiendo trabajar con datos en dos dimensiones."
      ],
      "metadata": {
        "id": "M5f4z5qLWGFX"
      }
    },
    {
      "cell_type": "code",
      "source": [
        "# Crear una lista que contiene otras listas (matriz)\n",
        "matriz = [[1, 2, 3], [4, 5, 6], [7, 8, 9]]\n",
        "\n",
        "# Acceder a un elemento dentro de la matriz\n",
        "print(\"Elemento en la posición (2, 2):\", matriz[1][1])\n"
      ],
      "metadata": {
        "id": "_Sz99KCfWQX4",
        "colab": {
          "base_uri": "https://localhost:8080/"
        },
        "outputId": "12114e9f-7a09-4006-cb86-ed549ae2ed47"
      },
      "execution_count": null,
      "outputs": [
        {
          "output_type": "stream",
          "name": "stdout",
          "text": [
            "Elemento en la posición (2, 2): 5\n"
          ]
        }
      ]
    },
    {
      "cell_type": "code",
      "source": [
        "#imprimir una matriz\n",
        "print(\"Matriz original:\")\n",
        "for fila in matriz:\n",
        "    print(fila)"
      ],
      "metadata": {
        "colab": {
          "base_uri": "https://localhost:8080/"
        },
        "id": "WNmd6gkWGmmI",
        "outputId": "a7bd94c7-2559-4ea7-f379-6695350e4f7d"
      },
      "execution_count": null,
      "outputs": [
        {
          "output_type": "stream",
          "name": "stdout",
          "text": [
            "Matriz original:\n",
            "[1, 2, 3]\n",
            "[4, 5, 6]\n",
            "[7, 8, 9]\n"
          ]
        }
      ]
    },
    {
      "cell_type": "code",
      "source": [
        "# Modificar el elemento en la primera fila, segunda columna\n",
        "matriz[0][1] = 10\n",
        "print(\"Matriz después de la modificación:\")\n",
        "for fila in matriz:\n",
        "    print(fila)"
      ],
      "metadata": {
        "colab": {
          "base_uri": "https://localhost:8080/"
        },
        "id": "invlMxavGuWI",
        "outputId": "b2d2b308-6275-49a8-9af3-8f0e61ffe0f4"
      },
      "execution_count": null,
      "outputs": [
        {
          "output_type": "stream",
          "name": "stdout",
          "text": [
            "Matriz después de la modificación:\n",
            "[1, 10, 3]\n",
            "[4, 5, 6]\n",
            "[7, 8, 9]\n"
          ]
        }
      ]
    },
    {
      "cell_type": "markdown",
      "source": [
        "Para multiplicar una matriz por un escalar (en este caso, 3), se debe multiplicar cada elemento de la matriz por el número dado. A continuación, te muestro cómo hacerlo en Python"
      ],
      "metadata": {
        "id": "q8k8tHZsHglQ"
      }
    },
    {
      "cell_type": "code",
      "source": [
        "# Crear una matriz 3x3\n",
        "matriz = [\n",
        "    [1, 2, 3],\n",
        "    [4, 5, 6],\n",
        "    [7, 8, 9]\n",
        "]\n",
        "\n",
        "# Escalar por el cual multiplicaremos la matriz\n",
        "escalar = 3\n",
        "\n",
        "# Multiplicar cada elemento de la matriz por el escalar\n",
        "matriz_multiplicada = [[elemento * escalar for elemento in fila] for fila in matriz]\n",
        "\n",
        "print(\"Matriz original:\")\n",
        "for fila in matriz:\n",
        "    print(fila)\n",
        "\n",
        "print(\"\\nMatriz multiplicada por\", escalar, \":\")\n",
        "for fila in matriz_multiplicada:\n",
        "    print(fila)"
      ],
      "metadata": {
        "colab": {
          "base_uri": "https://localhost:8080/"
        },
        "id": "Njghqvi4G9wF",
        "outputId": "42154217-1a88-4dd4-ffbe-0c6076d11f75"
      },
      "execution_count": null,
      "outputs": [
        {
          "output_type": "stream",
          "name": "stdout",
          "text": [
            "Matriz original:\n",
            "[1, 2, 3]\n",
            "[4, 5, 6]\n",
            "[7, 8, 9]\n",
            "\n",
            "Matriz multiplicada por 3 :\n",
            "[3, 6, 9]\n",
            "[12, 15, 18]\n",
            "[21, 24, 27]\n"
          ]
        }
      ]
    },
    {
      "cell_type": "markdown",
      "source": [
        "##Mapas\n",
        " Son colecciones de pares clave-valor. Son útiles cuando necesitas asociar un valor con una clave específica."
      ],
      "metadata": {
        "id": "xCutg7kvWNqA"
      }
    },
    {
      "cell_type": "code",
      "source": [
        "mapa = {\"nombre\": \"Juan\", \"edad\": 25}\n",
        "print(mapa[\"nombre\"])\n"
      ],
      "metadata": {
        "id": "OQZ8qQMbWXW1"
      },
      "execution_count": null,
      "outputs": []
    },
    {
      "cell_type": "code",
      "source": [
        "# Acceder al valor asociado a una clave\n",
        "valor = mapa[\"clave1\"]\n",
        "print(valor)  # Salida: valor1\n",
        "\n",
        "# Usar el método get() para acceder a un valor de forma segura\n",
        "valor = mapa.get(\"clave2\")\n",
        "print(valor)  # Salida: valor2"
      ],
      "metadata": {
        "id": "fxE3VkcMIClw"
      },
      "execution_count": null,
      "outputs": []
    },
    {
      "cell_type": "code",
      "source": [
        "# Agregar un nuevo par clave-valor\n",
        "mapa[\"clave4\"] = \"valor4\"\n",
        "\n",
        "# Modificar el valor de una clave existente\n",
        "mapa[\"clave1\"] = \"nuevo_valor1\""
      ],
      "metadata": {
        "id": "65a4hPqaIE4A"
      },
      "execution_count": null,
      "outputs": []
    },
    {
      "cell_type": "code",
      "source": [
        "# Comprobar si una clave está en el diccionario\n",
        "existe = \"clave1\" in mapa\n",
        "print(existe)  # Salida: True o False"
      ],
      "metadata": {
        "id": "I7nQPpv8IG9p"
      },
      "execution_count": null,
      "outputs": []
    },
    {
      "cell_type": "code",
      "source": [
        "# Crear un diccionario dentro de otro\n",
        "mapa_anidado = {\n",
        "    \"persona1\": {\"nombre\": \"Juan\", \"edad\": 25},\n",
        "    \"persona2\": {\"nombre\": \"Ana\", \"edad\": 30}\n",
        "}\n",
        "\n",
        "# Acceder a valores en un diccionario anidado\n",
        "nombre_juan = mapa_anidado[\"persona1\"][\"nombre\"]\n",
        "print(nombre_juan)  # Salida: Juan"
      ],
      "metadata": {
        "id": "2pn9oUR1ILXn"
      },
      "execution_count": null,
      "outputs": []
    },
    {
      "cell_type": "markdown",
      "source": [
        "##Colas\n",
        "Son estructuras de datos donde el primer elemento en entrar es el primero en salir (FIFO: First-In-First-Out)."
      ],
      "metadata": {
        "id": "EWfKWA1HWaUy"
      }
    },
    {
      "cell_type": "code",
      "source": [
        "from collections import deque\n",
        "cola = deque([\"A\", \"B\", \"C\"])\n",
        "cola.append(\"D\")      # Agrega un elemento al final\n",
        "cola.popleft()        # Remueve el primer elemento\n"
      ],
      "metadata": {
        "id": "XbPSyo5LWc_L"
      },
      "execution_count": null,
      "outputs": []
    },
    {
      "cell_type": "markdown",
      "source": [
        "##Pilas\n",
        "Son estructuras de datos donde el último elemento en entrar es el primero en salir (LIFO: Last-In-First-Out)."
      ],
      "metadata": {
        "id": "McrqbsnKWdqb"
      }
    },
    {
      "cell_type": "code",
      "source": [
        "pila = []\n",
        "pila.append(\"A\")      # Agrega un elemento a la cima\n",
        "pila.pop()            # Remueve el último elemento agregado\n"
      ],
      "metadata": {
        "id": "_3dxfKpAWhaq"
      },
      "execution_count": null,
      "outputs": []
    }
  ]
}